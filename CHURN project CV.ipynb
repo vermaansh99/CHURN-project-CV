{
 "cells": [
  {
   "cell_type": "markdown",
   "id": "a34f0352",
   "metadata": {},
   "source": [
    "# Importing Library"
   ]
  },
  {
   "cell_type": "code",
   "execution_count": 1,
   "id": "6d7a9280",
   "metadata": {},
   "outputs": [],
   "source": [
    "import pandas as pd\n",
    "import numpy as np\n",
    "import seaborn as sns\n",
    "from matplotlib import pyplot as plt\n",
    "from sklearn.preprocessing import LabelEncoder\n",
    "le= LabelEncoder()\n",
    "from sklearn.model_selection import train_test_split\n",
    "from sklearn.linear_model import LogisticRegression\n",
    "lr= LogisticRegression()\n",
    "from sklearn.tree import DecisionTreeClassifier\n",
    "dtc= DecisionTreeClassifier()\n",
    "from sklearn.ensemble import RandomForestClassifier\n",
    "rfc= RandomForestClassifier()\n",
    "from sklearn.metrics import accuracy_score,precision_score,recall_score\n",
    "from sklearn.preprocessing import StandardScaler\n",
    "ss= StandardScaler()"
   ]
  },
  {
   "cell_type": "markdown",
   "id": "84145174",
   "metadata": {},
   "source": [
    "# Loading Dataset"
   ]
  },
  {
   "cell_type": "code",
   "execution_count": 2,
   "id": "031c69c8",
   "metadata": {},
   "outputs": [],
   "source": [
    "churn=pd.read_csv(\"churn.csv\")"
   ]
  },
  {
   "cell_type": "markdown",
   "id": "d4dcd8b2",
   "metadata": {},
   "source": [
    "# Understanding Data"
   ]
  },
  {
   "cell_type": "code",
   "execution_count": 3,
   "id": "8ab8c6c7",
   "metadata": {},
   "outputs": [
    {
     "data": {
      "text/html": [
       "<div>\n",
       "<style scoped>\n",
       "    .dataframe tbody tr th:only-of-type {\n",
       "        vertical-align: middle;\n",
       "    }\n",
       "\n",
       "    .dataframe tbody tr th {\n",
       "        vertical-align: top;\n",
       "    }\n",
       "\n",
       "    .dataframe thead th {\n",
       "        text-align: right;\n",
       "    }\n",
       "</style>\n",
       "<table border=\"1\" class=\"dataframe\">\n",
       "  <thead>\n",
       "    <tr style=\"text-align: right;\">\n",
       "      <th></th>\n",
       "      <th>customerID</th>\n",
       "      <th>gender</th>\n",
       "      <th>SeniorCitizen</th>\n",
       "      <th>Partner</th>\n",
       "      <th>Dependents</th>\n",
       "      <th>tenure</th>\n",
       "      <th>PhoneService</th>\n",
       "      <th>MultipleLines</th>\n",
       "      <th>InternetService</th>\n",
       "      <th>OnlineSecurity</th>\n",
       "      <th>...</th>\n",
       "      <th>DeviceProtection</th>\n",
       "      <th>TechSupport</th>\n",
       "      <th>StreamingTV</th>\n",
       "      <th>StreamingMovies</th>\n",
       "      <th>Contract</th>\n",
       "      <th>PaperlessBilling</th>\n",
       "      <th>PaymentMethod</th>\n",
       "      <th>MonthlyCharges</th>\n",
       "      <th>TotalCharges</th>\n",
       "      <th>Churn</th>\n",
       "    </tr>\n",
       "  </thead>\n",
       "  <tbody>\n",
       "    <tr>\n",
       "      <th>0</th>\n",
       "      <td>7590-VHVEG</td>\n",
       "      <td>Female</td>\n",
       "      <td>0</td>\n",
       "      <td>Yes</td>\n",
       "      <td>No</td>\n",
       "      <td>1</td>\n",
       "      <td>No</td>\n",
       "      <td>No phone service</td>\n",
       "      <td>DSL</td>\n",
       "      <td>No</td>\n",
       "      <td>...</td>\n",
       "      <td>No</td>\n",
       "      <td>No</td>\n",
       "      <td>No</td>\n",
       "      <td>No</td>\n",
       "      <td>Month-to-month</td>\n",
       "      <td>Yes</td>\n",
       "      <td>Electronic check</td>\n",
       "      <td>29.85</td>\n",
       "      <td>29.85</td>\n",
       "      <td>No</td>\n",
       "    </tr>\n",
       "    <tr>\n",
       "      <th>1</th>\n",
       "      <td>5575-GNVDE</td>\n",
       "      <td>Male</td>\n",
       "      <td>0</td>\n",
       "      <td>No</td>\n",
       "      <td>No</td>\n",
       "      <td>34</td>\n",
       "      <td>Yes</td>\n",
       "      <td>No</td>\n",
       "      <td>DSL</td>\n",
       "      <td>Yes</td>\n",
       "      <td>...</td>\n",
       "      <td>Yes</td>\n",
       "      <td>No</td>\n",
       "      <td>No</td>\n",
       "      <td>No</td>\n",
       "      <td>One year</td>\n",
       "      <td>No</td>\n",
       "      <td>Mailed check</td>\n",
       "      <td>56.95</td>\n",
       "      <td>1889.5</td>\n",
       "      <td>No</td>\n",
       "    </tr>\n",
       "    <tr>\n",
       "      <th>2</th>\n",
       "      <td>3668-QPYBK</td>\n",
       "      <td>Male</td>\n",
       "      <td>0</td>\n",
       "      <td>No</td>\n",
       "      <td>No</td>\n",
       "      <td>2</td>\n",
       "      <td>Yes</td>\n",
       "      <td>No</td>\n",
       "      <td>DSL</td>\n",
       "      <td>Yes</td>\n",
       "      <td>...</td>\n",
       "      <td>No</td>\n",
       "      <td>No</td>\n",
       "      <td>No</td>\n",
       "      <td>No</td>\n",
       "      <td>Month-to-month</td>\n",
       "      <td>Yes</td>\n",
       "      <td>Mailed check</td>\n",
       "      <td>53.85</td>\n",
       "      <td>108.15</td>\n",
       "      <td>Yes</td>\n",
       "    </tr>\n",
       "    <tr>\n",
       "      <th>3</th>\n",
       "      <td>7795-CFOCW</td>\n",
       "      <td>Male</td>\n",
       "      <td>0</td>\n",
       "      <td>No</td>\n",
       "      <td>No</td>\n",
       "      <td>45</td>\n",
       "      <td>No</td>\n",
       "      <td>No phone service</td>\n",
       "      <td>DSL</td>\n",
       "      <td>Yes</td>\n",
       "      <td>...</td>\n",
       "      <td>Yes</td>\n",
       "      <td>Yes</td>\n",
       "      <td>No</td>\n",
       "      <td>No</td>\n",
       "      <td>One year</td>\n",
       "      <td>No</td>\n",
       "      <td>Bank transfer (automatic)</td>\n",
       "      <td>42.30</td>\n",
       "      <td>1840.75</td>\n",
       "      <td>No</td>\n",
       "    </tr>\n",
       "    <tr>\n",
       "      <th>4</th>\n",
       "      <td>9237-HQITU</td>\n",
       "      <td>Female</td>\n",
       "      <td>0</td>\n",
       "      <td>No</td>\n",
       "      <td>No</td>\n",
       "      <td>2</td>\n",
       "      <td>Yes</td>\n",
       "      <td>No</td>\n",
       "      <td>Fiber optic</td>\n",
       "      <td>No</td>\n",
       "      <td>...</td>\n",
       "      <td>No</td>\n",
       "      <td>No</td>\n",
       "      <td>No</td>\n",
       "      <td>No</td>\n",
       "      <td>Month-to-month</td>\n",
       "      <td>Yes</td>\n",
       "      <td>Electronic check</td>\n",
       "      <td>70.70</td>\n",
       "      <td>151.65</td>\n",
       "      <td>Yes</td>\n",
       "    </tr>\n",
       "  </tbody>\n",
       "</table>\n",
       "<p>5 rows × 21 columns</p>\n",
       "</div>"
      ],
      "text/plain": [
       "   customerID  gender  SeniorCitizen Partner Dependents  tenure PhoneService  \\\n",
       "0  7590-VHVEG  Female              0     Yes         No       1           No   \n",
       "1  5575-GNVDE    Male              0      No         No      34          Yes   \n",
       "2  3668-QPYBK    Male              0      No         No       2          Yes   \n",
       "3  7795-CFOCW    Male              0      No         No      45           No   \n",
       "4  9237-HQITU  Female              0      No         No       2          Yes   \n",
       "\n",
       "      MultipleLines InternetService OnlineSecurity  ... DeviceProtection  \\\n",
       "0  No phone service             DSL             No  ...               No   \n",
       "1                No             DSL            Yes  ...              Yes   \n",
       "2                No             DSL            Yes  ...               No   \n",
       "3  No phone service             DSL            Yes  ...              Yes   \n",
       "4                No     Fiber optic             No  ...               No   \n",
       "\n",
       "  TechSupport StreamingTV StreamingMovies        Contract PaperlessBilling  \\\n",
       "0          No          No              No  Month-to-month              Yes   \n",
       "1          No          No              No        One year               No   \n",
       "2          No          No              No  Month-to-month              Yes   \n",
       "3         Yes          No              No        One year               No   \n",
       "4          No          No              No  Month-to-month              Yes   \n",
       "\n",
       "               PaymentMethod MonthlyCharges  TotalCharges Churn  \n",
       "0           Electronic check          29.85         29.85    No  \n",
       "1               Mailed check          56.95        1889.5    No  \n",
       "2               Mailed check          53.85        108.15   Yes  \n",
       "3  Bank transfer (automatic)          42.30       1840.75    No  \n",
       "4           Electronic check          70.70        151.65   Yes  \n",
       "\n",
       "[5 rows x 21 columns]"
      ]
     },
     "execution_count": 3,
     "metadata": {},
     "output_type": "execute_result"
    }
   ],
   "source": [
    "churn.head()"
   ]
  },
  {
   "cell_type": "code",
   "execution_count": 4,
   "id": "4afdbeee",
   "metadata": {},
   "outputs": [
    {
     "data": {
      "text/plain": [
       "(7043, 21)"
      ]
     },
     "execution_count": 4,
     "metadata": {},
     "output_type": "execute_result"
    }
   ],
   "source": [
    "churn.shape\n",
    "\n",
    "#There are 7043 rows and 21 columns"
   ]
  },
  {
   "cell_type": "code",
   "execution_count": 5,
   "id": "4fb6a4a2",
   "metadata": {},
   "outputs": [
    {
     "data": {
      "text/plain": [
       "customerID          False\n",
       "gender              False\n",
       "SeniorCitizen       False\n",
       "Partner             False\n",
       "Dependents          False\n",
       "tenure              False\n",
       "PhoneService        False\n",
       "MultipleLines       False\n",
       "InternetService     False\n",
       "OnlineSecurity      False\n",
       "OnlineBackup        False\n",
       "DeviceProtection    False\n",
       "TechSupport         False\n",
       "StreamingTV         False\n",
       "StreamingMovies     False\n",
       "Contract            False\n",
       "PaperlessBilling    False\n",
       "PaymentMethod       False\n",
       "MonthlyCharges      False\n",
       "TotalCharges        False\n",
       "Churn               False\n",
       "dtype: bool"
      ]
     },
     "execution_count": 5,
     "metadata": {},
     "output_type": "execute_result"
    }
   ],
   "source": [
    "churn.isnull().any()"
   ]
  },
  {
   "cell_type": "code",
   "execution_count": 6,
   "id": "6db4f059",
   "metadata": {},
   "outputs": [
    {
     "data": {
      "text/plain": [
       "customerID          7043\n",
       "gender                 2\n",
       "SeniorCitizen          2\n",
       "Partner                2\n",
       "Dependents             2\n",
       "tenure                73\n",
       "PhoneService           2\n",
       "MultipleLines          3\n",
       "InternetService        3\n",
       "OnlineSecurity         3\n",
       "OnlineBackup           3\n",
       "DeviceProtection       3\n",
       "TechSupport            3\n",
       "StreamingTV            3\n",
       "StreamingMovies        3\n",
       "Contract               3\n",
       "PaperlessBilling       2\n",
       "PaymentMethod          4\n",
       "MonthlyCharges      1585\n",
       "TotalCharges        6531\n",
       "Churn                  2\n",
       "dtype: int64"
      ]
     },
     "execution_count": 6,
     "metadata": {},
     "output_type": "execute_result"
    }
   ],
   "source": [
    "churn.nunique()\n",
    "\n",
    "#1: Except customer ID , tenure , monthly charges , Total charges all other work as a categorical data type\n",
    "#2: Customer ID is of no use as it is different from each row and will not make any impact on the dependent variable"
   ]
  },
  {
   "cell_type": "code",
   "execution_count": 7,
   "id": "71f99730",
   "metadata": {},
   "outputs": [
    {
     "data": {
      "text/plain": [
       "customerID           object\n",
       "gender               object\n",
       "SeniorCitizen         int64\n",
       "Partner              object\n",
       "Dependents           object\n",
       "tenure                int64\n",
       "PhoneService         object\n",
       "MultipleLines        object\n",
       "InternetService      object\n",
       "OnlineSecurity       object\n",
       "OnlineBackup         object\n",
       "DeviceProtection     object\n",
       "TechSupport          object\n",
       "StreamingTV          object\n",
       "StreamingMovies      object\n",
       "Contract             object\n",
       "PaperlessBilling     object\n",
       "PaymentMethod        object\n",
       "MonthlyCharges      float64\n",
       "TotalCharges         object\n",
       "Churn                object\n",
       "dtype: object"
      ]
     },
     "execution_count": 7,
     "metadata": {},
     "output_type": "execute_result"
    }
   ],
   "source": [
    "churn.dtypes\n",
    "\n",
    "#1: We have to change Data type of seniorcitizen into object or categorical\n",
    "#2: We have to change data type of Total cahrges into Numeric data type"
   ]
  },
  {
   "cell_type": "code",
   "execution_count": 8,
   "id": "b3226d76",
   "metadata": {},
   "outputs": [],
   "source": [
    "# Changing Data type\n",
    "churn[\"gender\"] = churn[\"gender\"].astype(\"object\")\n",
    "churn[\"TotalCharges\"] = pd.to_numeric(churn[\"TotalCharges\"],errors=\"coerce\")\n",
    "\n",
    "#1: Data type of gender and Total charges has been changed\n",
    "#2: But to change in data type it may happen that null values will enter in our dataset"
   ]
  },
  {
   "cell_type": "code",
   "execution_count": 9,
   "id": "60cd16e8",
   "metadata": {},
   "outputs": [
    {
     "data": {
      "text/plain": [
       "customerID           0\n",
       "gender               0\n",
       "SeniorCitizen        0\n",
       "Partner              0\n",
       "Dependents           0\n",
       "tenure               0\n",
       "PhoneService         0\n",
       "MultipleLines        0\n",
       "InternetService      0\n",
       "OnlineSecurity       0\n",
       "OnlineBackup         0\n",
       "DeviceProtection     0\n",
       "TechSupport          0\n",
       "StreamingTV          0\n",
       "StreamingMovies      0\n",
       "Contract             0\n",
       "PaperlessBilling     0\n",
       "PaymentMethod        0\n",
       "MonthlyCharges       0\n",
       "TotalCharges        11\n",
       "Churn                0\n",
       "dtype: int64"
      ]
     },
     "execution_count": 9,
     "metadata": {},
     "output_type": "execute_result"
    }
   ],
   "source": [
    "churn.isnull().sum()\n",
    "\n",
    "#1: Null values are present in total charges"
   ]
  },
  {
   "cell_type": "code",
   "execution_count": 10,
   "id": "4815f3de",
   "metadata": {},
   "outputs": [
    {
     "name": "stdout",
     "output_type": "stream",
     "text": [
      "0.961642499724251\n"
     ]
    },
    {
     "name": "stderr",
     "output_type": "stream",
     "text": [
      "C:\\Users\\HP User\\anaconda3\\lib\\site-packages\\seaborn\\distributions.py:2557: FutureWarning: `distplot` is a deprecated function and will be removed in a future version. Please adapt your code to use either `displot` (a figure-level function with similar flexibility) or `histplot` (an axes-level function for histograms).\n",
      "  warnings.warn(msg, FutureWarning)\n"
     ]
    },
    {
     "data": {
      "image/png": "[encoded data removed]",
      "text/plain": [
       "<Figure size 432x288 with 1 Axes>"
      ]
     },
     "metadata": {
      "needs_background": "light"
     },
     "output_type": "display_data"
    }
   ],
   "source": [
    "# Checking Distrubution of Total charges\n",
    "\n",
    "print(churn[\"TotalCharges\"].skew())\n",
    "sns.distplot(churn[\"TotalCharges\"])\n",
    "plt.show()\n",
    "\n",
    "#It is more likely normal distributed so we will remove null values by replacing it with the mean of Total charges."
   ]
  },
  {
   "cell_type": "code",
   "execution_count": 11,
   "id": "9d420b27",
   "metadata": {},
   "outputs": [],
   "source": [
    "#Removing null values of Total Charges\n",
    "\n",
    "churn[\"TotalCharges\"] = churn[\"TotalCharges\"].fillna(churn[\"TotalCharges\"].mean())"
   ]
  },
  {
   "cell_type": "code",
   "execution_count": 12,
   "id": "9b9b93ae",
   "metadata": {},
   "outputs": [
    {
     "data": {
      "text/plain": [
       "customerID          False\n",
       "gender              False\n",
       "SeniorCitizen       False\n",
       "Partner             False\n",
       "Dependents          False\n",
       "tenure              False\n",
       "PhoneService        False\n",
       "MultipleLines       False\n",
       "InternetService     False\n",
       "OnlineSecurity      False\n",
       "OnlineBackup        False\n",
       "DeviceProtection    False\n",
       "TechSupport         False\n",
       "StreamingTV         False\n",
       "StreamingMovies     False\n",
       "Contract            False\n",
       "PaperlessBilling    False\n",
       "PaymentMethod       False\n",
       "MonthlyCharges      False\n",
       "TotalCharges        False\n",
       "Churn               False\n",
       "dtype: bool"
      ]
     },
     "execution_count": 12,
     "metadata": {},
     "output_type": "execute_result"
    }
   ],
   "source": [
    "#Null values are removed\n",
    "churn.isna().any()"
   ]
  },
  {
   "cell_type": "code",
   "execution_count": 13,
   "id": "e02c1d52",
   "metadata": {},
   "outputs": [],
   "source": [
    "#Diving data into two different frame to get better results.\n",
    "\n",
    "cat_col=[]\n",
    "num_col=[]\n",
    "for i in  churn:\n",
    "    if(churn[i].nunique()<6):\n",
    "        cat_col.append(churn[i])\n",
    "    else:\n",
    "        num_col.append(churn[i])\n",
    "cat_col = pd.DataFrame(cat_col).T\n",
    "num_col = pd.DataFrame(num_col).T"
   ]
  },
  {
   "cell_type": "code",
   "execution_count": 14,
   "id": "25bd1a8a",
   "metadata": {},
   "outputs": [
    {
     "data": {
      "text/html": [
       "<div>\n",
       "<style scoped>\n",
       "    .dataframe tbody tr th:only-of-type {\n",
       "        vertical-align: middle;\n",
       "    }\n",
       "\n",
       "    .dataframe tbody tr th {\n",
       "        vertical-align: top;\n",
       "    }\n",
       "\n",
       "    .dataframe thead th {\n",
       "        text-align: right;\n",
       "    }\n",
       "</style>\n",
       "<table border=\"1\" class=\"dataframe\">\n",
       "  <thead>\n",
       "    <tr style=\"text-align: right;\">\n",
       "      <th></th>\n",
       "      <th>gender</th>\n",
       "      <th>SeniorCitizen</th>\n",
       "      <th>Partner</th>\n",
       "      <th>Dependents</th>\n",
       "      <th>PhoneService</th>\n",
       "      <th>MultipleLines</th>\n",
       "      <th>InternetService</th>\n",
       "      <th>OnlineSecurity</th>\n",
       "      <th>OnlineBackup</th>\n",
       "      <th>DeviceProtection</th>\n",
       "      <th>TechSupport</th>\n",
       "      <th>StreamingTV</th>\n",
       "      <th>StreamingMovies</th>\n",
       "      <th>Contract</th>\n",
       "      <th>PaperlessBilling</th>\n",
       "      <th>PaymentMethod</th>\n",
       "      <th>Churn</th>\n",
       "    </tr>\n",
       "  </thead>\n",
       "  <tbody>\n",
       "    <tr>\n",
       "      <th>0</th>\n",
       "      <td>Female</td>\n",
       "      <td>0</td>\n",
       "      <td>Yes</td>\n",
       "      <td>No</td>\n",
       "      <td>No</td>\n",
       "      <td>No phone service</td>\n",
       "      <td>DSL</td>\n",
       "      <td>No</td>\n",
       "      <td>Yes</td>\n",
       "      <td>No</td>\n",
       "      <td>No</td>\n",
       "      <td>No</td>\n",
       "      <td>No</td>\n",
       "      <td>Month-to-month</td>\n",
       "      <td>Yes</td>\n",
       "      <td>Electronic check</td>\n",
       "      <td>No</td>\n",
       "    </tr>\n",
       "    <tr>\n",
       "      <th>1</th>\n",
       "      <td>Male</td>\n",
       "      <td>0</td>\n",
       "      <td>No</td>\n",
       "      <td>No</td>\n",
       "      <td>Yes</td>\n",
       "      <td>No</td>\n",
       "      <td>DSL</td>\n",
       "      <td>Yes</td>\n",
       "      <td>No</td>\n",
       "      <td>Yes</td>\n",
       "      <td>No</td>\n",
       "      <td>No</td>\n",
       "      <td>No</td>\n",
       "      <td>One year</td>\n",
       "      <td>No</td>\n",
       "      <td>Mailed check</td>\n",
       "      <td>No</td>\n",
       "    </tr>\n",
       "    <tr>\n",
       "      <th>2</th>\n",
       "      <td>Male</td>\n",
       "      <td>0</td>\n",
       "      <td>No</td>\n",
       "      <td>No</td>\n",
       "      <td>Yes</td>\n",
       "      <td>No</td>\n",
       "      <td>DSL</td>\n",
       "      <td>Yes</td>\n",
       "      <td>Yes</td>\n",
       "      <td>No</td>\n",
       "      <td>No</td>\n",
       "      <td>No</td>\n",
       "      <td>No</td>\n",
       "      <td>Month-to-month</td>\n",
       "      <td>Yes</td>\n",
       "      <td>Mailed check</td>\n",
       "      <td>Yes</td>\n",
       "    </tr>\n",
       "    <tr>\n",
       "      <th>3</th>\n",
       "      <td>Male</td>\n",
       "      <td>0</td>\n",
       "      <td>No</td>\n",
       "      <td>No</td>\n",
       "      <td>No</td>\n",
       "      <td>No phone service</td>\n",
       "      <td>DSL</td>\n",
       "      <td>Yes</td>\n",
       "      <td>No</td>\n",
       "      <td>Yes</td>\n",
       "      <td>Yes</td>\n",
       "      <td>No</td>\n",
       "      <td>No</td>\n",
       "      <td>One year</td>\n",
       "      <td>No</td>\n",
       "      <td>Bank transfer (automatic)</td>\n",
       "      <td>No</td>\n",
       "    </tr>\n",
       "    <tr>\n",
       "      <th>4</th>\n",
       "      <td>Female</td>\n",
       "      <td>0</td>\n",
       "      <td>No</td>\n",
       "      <td>No</td>\n",
       "      <td>Yes</td>\n",
       "      <td>No</td>\n",
       "      <td>Fiber optic</td>\n",
       "      <td>No</td>\n",
       "      <td>No</td>\n",
       "      <td>No</td>\n",
       "      <td>No</td>\n",
       "      <td>No</td>\n",
       "      <td>No</td>\n",
       "      <td>Month-to-month</td>\n",
       "      <td>Yes</td>\n",
       "      <td>Electronic check</td>\n",
       "      <td>Yes</td>\n",
       "    </tr>\n",
       "  </tbody>\n",
       "</table>\n",
       "</div>"
      ],
      "text/plain": [
       "   gender SeniorCitizen Partner Dependents PhoneService     MultipleLines  \\\n",
       "0  Female             0     Yes         No           No  No phone service   \n",
       "1    Male             0      No         No          Yes                No   \n",
       "2    Male             0      No         No          Yes                No   \n",
       "3    Male             0      No         No           No  No phone service   \n",
       "4  Female             0      No         No          Yes                No   \n",
       "\n",
       "  InternetService OnlineSecurity OnlineBackup DeviceProtection TechSupport  \\\n",
       "0             DSL             No          Yes               No          No   \n",
       "1             DSL            Yes           No              Yes          No   \n",
       "2             DSL            Yes          Yes               No          No   \n",
       "3             DSL            Yes           No              Yes         Yes   \n",
       "4     Fiber optic             No           No               No          No   \n",
       "\n",
       "  StreamingTV StreamingMovies        Contract PaperlessBilling  \\\n",
       "0          No              No  Month-to-month              Yes   \n",
       "1          No              No        One year               No   \n",
       "2          No              No  Month-to-month              Yes   \n",
       "3          No              No        One year               No   \n",
       "4          No              No  Month-to-month              Yes   \n",
       "\n",
       "               PaymentMethod Churn  \n",
       "0           Electronic check    No  \n",
       "1               Mailed check    No  \n",
       "2               Mailed check   Yes  \n",
       "3  Bank transfer (automatic)    No  \n",
       "4           Electronic check   Yes  "
      ]
     },
     "execution_count": 14,
     "metadata": {},
     "output_type": "execute_result"
    }
   ],
   "source": [
    "cat_col.head()"
   ]
  },
  {
   "cell_type": "code",
   "execution_count": 15,
   "id": "7a9f3db4",
   "metadata": {},
   "outputs": [
    {
     "data": {
      "text/html": [
       "<div>\n",
       "<style scoped>\n",
       "    .dataframe tbody tr th:only-of-type {\n",
       "        vertical-align: middle;\n",
       "    }\n",
       "\n",
       "    .dataframe tbody tr th {\n",
       "        vertical-align: top;\n",
       "    }\n",
       "\n",
       "    .dataframe thead th {\n",
       "        text-align: right;\n",
       "    }\n",
       "</style>\n",
       "<table border=\"1\" class=\"dataframe\">\n",
       "  <thead>\n",
       "    <tr style=\"text-align: right;\">\n",
       "      <th></th>\n",
       "      <th>customerID</th>\n",
       "      <th>tenure</th>\n",
       "      <th>MonthlyCharges</th>\n",
       "      <th>TotalCharges</th>\n",
       "    </tr>\n",
       "  </thead>\n",
       "  <tbody>\n",
       "    <tr>\n",
       "      <th>0</th>\n",
       "      <td>7590-VHVEG</td>\n",
       "      <td>1</td>\n",
       "      <td>29.85</td>\n",
       "      <td>29.85</td>\n",
       "    </tr>\n",
       "    <tr>\n",
       "      <th>1</th>\n",
       "      <td>5575-GNVDE</td>\n",
       "      <td>34</td>\n",
       "      <td>56.95</td>\n",
       "      <td>1889.5</td>\n",
       "    </tr>\n",
       "    <tr>\n",
       "      <th>2</th>\n",
       "      <td>3668-QPYBK</td>\n",
       "      <td>2</td>\n",
       "      <td>53.85</td>\n",
       "      <td>108.15</td>\n",
       "    </tr>\n",
       "    <tr>\n",
       "      <th>3</th>\n",
       "      <td>7795-CFOCW</td>\n",
       "      <td>45</td>\n",
       "      <td>42.3</td>\n",
       "      <td>1840.75</td>\n",
       "    </tr>\n",
       "    <tr>\n",
       "      <th>4</th>\n",
       "      <td>9237-HQITU</td>\n",
       "      <td>2</td>\n",
       "      <td>70.7</td>\n",
       "      <td>151.65</td>\n",
       "    </tr>\n",
       "  </tbody>\n",
       "</table>\n",
       "</div>"
      ],
      "text/plain": [
       "   customerID tenure MonthlyCharges TotalCharges\n",
       "0  7590-VHVEG      1          29.85        29.85\n",
       "1  5575-GNVDE     34          56.95       1889.5\n",
       "2  3668-QPYBK      2          53.85       108.15\n",
       "3  7795-CFOCW     45           42.3      1840.75\n",
       "4  9237-HQITU      2           70.7       151.65"
      ]
     },
     "execution_count": 15,
     "metadata": {},
     "output_type": "execute_result"
    }
   ],
   "source": [
    "num_col.head()"
   ]
  },
  {
   "cell_type": "markdown",
   "id": "f368e86c",
   "metadata": {},
   "source": [
    "### Will do univariate analysis on cat_col"
   ]
  },
  {
   "cell_type": "code",
   "execution_count": 16,
   "id": "4f269741",
   "metadata": {},
   "outputs": [
    {
     "data": {
      "image/png": "[encoded data removed]",
      "text/plain": [
       "<Figure size 1440x2880 with 17 Axes>"
      ]
     },
     "metadata": {
      "needs_background": "light"
     },
     "output_type": "display_data"
    }
   ],
   "source": [
    "j = 1\n",
    "plt.figure(figsize=(20,40))\n",
    "for i  in cat_col:\n",
    "    plt.subplot(9,2,j)\n",
    "    sns.countplot(data=cat_col,x=i)\n",
    "    j = j+1\n",
    "plt.show()"
   ]
  },
  {
   "cell_type": "code",
   "execution_count": 17,
   "id": "b0f61837",
   "metadata": {},
   "outputs": [
    {
     "data": {
      "image/png": "[encoded data removed]",
      "text/plain": [
       "<Figure size 1080x3600 with 17 Axes>"
      ]
     },
     "metadata": {
      "needs_background": "light"
     },
     "output_type": "display_data"
    }
   ],
   "source": [
    "#Bivriate Analysis\n",
    "\n",
    "j=1\n",
    "plt.figure(figsize=(15,50))\n",
    "for i in cat_col:\n",
    "    plt.subplot(9,2,j)\n",
    "    sns.countplot(data=cat_col,x=i,hue=\"Churn\")\n",
    "    plt.title(i)\n",
    "    j = j+1\n",
    "plt.show()    "
   ]
  },
  {
   "cell_type": "markdown",
   "id": "1c9a4e2e",
   "metadata": {},
   "source": [
    "### Univariate analysis on Numerical Data"
   ]
  },
  {
   "cell_type": "code",
   "execution_count": 18,
   "id": "e892559b",
   "metadata": {},
   "outputs": [
    {
     "data": {
      "text/html": [
       "<div>\n",
       "<style scoped>\n",
       "    .dataframe tbody tr th:only-of-type {\n",
       "        vertical-align: middle;\n",
       "    }\n",
       "\n",
       "    .dataframe tbody tr th {\n",
       "        vertical-align: top;\n",
       "    }\n",
       "\n",
       "    .dataframe thead th {\n",
       "        text-align: right;\n",
       "    }\n",
       "</style>\n",
       "<table border=\"1\" class=\"dataframe\">\n",
       "  <thead>\n",
       "    <tr style=\"text-align: right;\">\n",
       "      <th></th>\n",
       "      <th>customerID</th>\n",
       "      <th>tenure</th>\n",
       "      <th>MonthlyCharges</th>\n",
       "      <th>TotalCharges</th>\n",
       "    </tr>\n",
       "  </thead>\n",
       "  <tbody>\n",
       "    <tr>\n",
       "      <th>0</th>\n",
       "      <td>7590-VHVEG</td>\n",
       "      <td>1</td>\n",
       "      <td>29.85</td>\n",
       "      <td>29.85</td>\n",
       "    </tr>\n",
       "    <tr>\n",
       "      <th>1</th>\n",
       "      <td>5575-GNVDE</td>\n",
       "      <td>34</td>\n",
       "      <td>56.95</td>\n",
       "      <td>1889.5</td>\n",
       "    </tr>\n",
       "    <tr>\n",
       "      <th>2</th>\n",
       "      <td>3668-QPYBK</td>\n",
       "      <td>2</td>\n",
       "      <td>53.85</td>\n",
       "      <td>108.15</td>\n",
       "    </tr>\n",
       "    <tr>\n",
       "      <th>3</th>\n",
       "      <td>7795-CFOCW</td>\n",
       "      <td>45</td>\n",
       "      <td>42.3</td>\n",
       "      <td>1840.75</td>\n",
       "    </tr>\n",
       "    <tr>\n",
       "      <th>4</th>\n",
       "      <td>9237-HQITU</td>\n",
       "      <td>2</td>\n",
       "      <td>70.7</td>\n",
       "      <td>151.65</td>\n",
       "    </tr>\n",
       "  </tbody>\n",
       "</table>\n",
       "</div>"
      ],
      "text/plain": [
       "   customerID tenure MonthlyCharges TotalCharges\n",
       "0  7590-VHVEG      1          29.85        29.85\n",
       "1  5575-GNVDE     34          56.95       1889.5\n",
       "2  3668-QPYBK      2          53.85       108.15\n",
       "3  7795-CFOCW     45           42.3      1840.75\n",
       "4  9237-HQITU      2           70.7       151.65"
      ]
     },
     "execution_count": 18,
     "metadata": {},
     "output_type": "execute_result"
    }
   ],
   "source": [
    "num_col.head()\n",
    "\n",
    "#We will remove Customer ID as it of no use because it is different from each rows and making no effect on Churn which is our\n",
    "# dependent variable"
   ]
  },
  {
   "cell_type": "code",
   "execution_count": 19,
   "id": "0ba33ace",
   "metadata": {},
   "outputs": [],
   "source": [
    "# Removing customed Id\n",
    "num_col.drop(\"customerID\",axis=1,inplace=True)"
   ]
  },
  {
   "cell_type": "code",
   "execution_count": 20,
   "id": "1637239c",
   "metadata": {},
   "outputs": [
    {
     "name": "stderr",
     "output_type": "stream",
     "text": [
      "C:\\Users\\HP User\\anaconda3\\lib\\site-packages\\seaborn\\distributions.py:2557: FutureWarning: `distplot` is a deprecated function and will be removed in a future version. Please adapt your code to use either `displot` (a figure-level function with similar flexibility) or `histplot` (an axes-level function for histograms).\n",
      "  warnings.warn(msg, FutureWarning)\n"
     ]
    },
    {
     "data": {
      "image/png": "[encoded data removed]",
      "text/plain": [
       "<Figure size 1080x1440 with 2 Axes>"
      ]
     },
     "metadata": {
      "needs_background": "light"
     },
     "output_type": "display_data"
    },
    {
     "name": "stderr",
     "output_type": "stream",
     "text": [
      "C:\\Users\\HP User\\anaconda3\\lib\\site-packages\\seaborn\\distributions.py:2557: FutureWarning: `distplot` is a deprecated function and will be removed in a future version. Please adapt your code to use either `displot` (a figure-level function with similar flexibility) or `histplot` (an axes-level function for histograms).\n",
      "  warnings.warn(msg, FutureWarning)\n"
     ]
    },
    {
     "data": {
      "image/png": "[encoded data removed]",
      "text/plain": [
       "<Figure size 1080x1440 with 2 Axes>"
      ]
     },
     "metadata": {
      "needs_background": "light"
     },
     "output_type": "display_data"
    },
    {
     "name": "stderr",
     "output_type": "stream",
     "text": [
      "C:\\Users\\HP User\\anaconda3\\lib\\site-packages\\seaborn\\distributions.py:2557: FutureWarning: `distplot` is a deprecated function and will be removed in a future version. Please adapt your code to use either `displot` (a figure-level function with similar flexibility) or `histplot` (an axes-level function for histograms).\n",
      "  warnings.warn(msg, FutureWarning)\n"
     ]
    },
    {
     "data": {
      "image/png": "[encoded data removed]",
      "text/plain": [
       "<Figure size 1080x1440 with 2 Axes>"
      ]
     },
     "metadata": {
      "needs_background": "light"
     },
     "output_type": "display_data"
    }
   ],
   "source": [
    "j=1\n",
    "for i in num_col:\n",
    "    plt.figure(figsize=(15,20))\n",
    "    plt.subplot(5,2,j)\n",
    "    sns.histplot(data=num_col,x=i,bins=30)\n",
    "    plt.subplot(2,2,j+1)\n",
    "    sns.distplot(num_col[i])\n",
    "    plt.show()"
   ]
  },
  {
   "cell_type": "code",
   "execution_count": 21,
   "id": "ec25ebe3",
   "metadata": {
    "scrolled": true
   },
   "outputs": [
    {
     "name": "stdout",
     "output_type": "stream",
     "text": [
      "tenure\n"
     ]
    },
    {
     "data": {
      "image/png": "[encoded data removed]",
      "text/plain": [
       "<Figure size 432x288 with 1 Axes>"
      ]
     },
     "metadata": {
      "needs_background": "light"
     },
     "output_type": "display_data"
    },
    {
     "name": "stdout",
     "output_type": "stream",
     "text": [
      "MonthlyCharges\n"
     ]
    },
    {
     "data": {
      "image/png": "[encoded data removed]",
      "text/plain": [
       "<Figure size 432x288 with 1 Axes>"
      ]
     },
     "metadata": {
      "needs_background": "light"
     },
     "output_type": "display_data"
    },
    {
     "name": "stdout",
     "output_type": "stream",
     "text": [
      "TotalCharges\n"
     ]
    },
    {
     "data": {
      "image/png": "[encoded data removed]",
      "text/plain": [
       "<Figure size 432x288 with 1 Axes>"
      ]
     },
     "metadata": {
      "needs_background": "light"
     },
     "output_type": "display_data"
    }
   ],
   "source": [
    "#Bivriate Analysis\n",
    "\n",
    "for i in num_col:\n",
    "    print(i)\n",
    "    sns.barplot(data=num_col, y = i, x=cat_col[\"Churn\"])\n",
    "    plt.show()"
   ]
  },
  {
   "cell_type": "code",
   "execution_count": 23,
   "id": "6eb42aa5",
   "metadata": {},
   "outputs": [],
   "source": [
    "# We will do Label Encoding on categorical data set.\n",
    "for i in cat_col:\n",
    "        cat_col[i]= le.fit_transform(cat_col[i])"
   ]
  },
  {
   "cell_type": "code",
   "execution_count": 24,
   "id": "ad1a0d35",
   "metadata": {},
   "outputs": [
    {
     "data": {
      "text/html": [
       "<div>\n",
       "<style scoped>\n",
       "    .dataframe tbody tr th:only-of-type {\n",
       "        vertical-align: middle;\n",
       "    }\n",
       "\n",
       "    .dataframe tbody tr th {\n",
       "        vertical-align: top;\n",
       "    }\n",
       "\n",
       "    .dataframe thead th {\n",
       "        text-align: right;\n",
       "    }\n",
       "</style>\n",
       "<table border=\"1\" class=\"dataframe\">\n",
       "  <thead>\n",
       "    <tr style=\"text-align: right;\">\n",
       "      <th></th>\n",
       "      <th>gender</th>\n",
       "      <th>SeniorCitizen</th>\n",
       "      <th>Partner</th>\n",
       "      <th>Dependents</th>\n",
       "      <th>PhoneService</th>\n",
       "      <th>MultipleLines</th>\n",
       "      <th>InternetService</th>\n",
       "      <th>OnlineSecurity</th>\n",
       "      <th>OnlineBackup</th>\n",
       "      <th>DeviceProtection</th>\n",
       "      <th>TechSupport</th>\n",
       "      <th>StreamingTV</th>\n",
       "      <th>StreamingMovies</th>\n",
       "      <th>Contract</th>\n",
       "      <th>PaperlessBilling</th>\n",
       "      <th>PaymentMethod</th>\n",
       "      <th>Churn</th>\n",
       "    </tr>\n",
       "  </thead>\n",
       "  <tbody>\n",
       "    <tr>\n",
       "      <th>0</th>\n",
       "      <td>0</td>\n",
       "      <td>0</td>\n",
       "      <td>1</td>\n",
       "      <td>0</td>\n",
       "      <td>0</td>\n",
       "      <td>1</td>\n",
       "      <td>0</td>\n",
       "      <td>0</td>\n",
       "      <td>2</td>\n",
       "      <td>0</td>\n",
       "      <td>0</td>\n",
       "      <td>0</td>\n",
       "      <td>0</td>\n",
       "      <td>0</td>\n",
       "      <td>1</td>\n",
       "      <td>2</td>\n",
       "      <td>0</td>\n",
       "    </tr>\n",
       "    <tr>\n",
       "      <th>1</th>\n",
       "      <td>1</td>\n",
       "      <td>0</td>\n",
       "      <td>0</td>\n",
       "      <td>0</td>\n",
       "      <td>1</td>\n",
       "      <td>0</td>\n",
       "      <td>0</td>\n",
       "      <td>2</td>\n",
       "      <td>0</td>\n",
       "      <td>2</td>\n",
       "      <td>0</td>\n",
       "      <td>0</td>\n",
       "      <td>0</td>\n",
       "      <td>1</td>\n",
       "      <td>0</td>\n",
       "      <td>3</td>\n",
       "      <td>0</td>\n",
       "    </tr>\n",
       "    <tr>\n",
       "      <th>2</th>\n",
       "      <td>1</td>\n",
       "      <td>0</td>\n",
       "      <td>0</td>\n",
       "      <td>0</td>\n",
       "      <td>1</td>\n",
       "      <td>0</td>\n",
       "      <td>0</td>\n",
       "      <td>2</td>\n",
       "      <td>2</td>\n",
       "      <td>0</td>\n",
       "      <td>0</td>\n",
       "      <td>0</td>\n",
       "      <td>0</td>\n",
       "      <td>0</td>\n",
       "      <td>1</td>\n",
       "      <td>3</td>\n",
       "      <td>1</td>\n",
       "    </tr>\n",
       "    <tr>\n",
       "      <th>3</th>\n",
       "      <td>1</td>\n",
       "      <td>0</td>\n",
       "      <td>0</td>\n",
       "      <td>0</td>\n",
       "      <td>0</td>\n",
       "      <td>1</td>\n",
       "      <td>0</td>\n",
       "      <td>2</td>\n",
       "      <td>0</td>\n",
       "      <td>2</td>\n",
       "      <td>2</td>\n",
       "      <td>0</td>\n",
       "      <td>0</td>\n",
       "      <td>1</td>\n",
       "      <td>0</td>\n",
       "      <td>0</td>\n",
       "      <td>0</td>\n",
       "    </tr>\n",
       "    <tr>\n",
       "      <th>4</th>\n",
       "      <td>0</td>\n",
       "      <td>0</td>\n",
       "      <td>0</td>\n",
       "      <td>0</td>\n",
       "      <td>1</td>\n",
       "      <td>0</td>\n",
       "      <td>1</td>\n",
       "      <td>0</td>\n",
       "      <td>0</td>\n",
       "      <td>0</td>\n",
       "      <td>0</td>\n",
       "      <td>0</td>\n",
       "      <td>0</td>\n",
       "      <td>0</td>\n",
       "      <td>1</td>\n",
       "      <td>2</td>\n",
       "      <td>1</td>\n",
       "    </tr>\n",
       "  </tbody>\n",
       "</table>\n",
       "</div>"
      ],
      "text/plain": [
       "   gender  SeniorCitizen  Partner  Dependents  PhoneService  MultipleLines  \\\n",
       "0       0              0        1           0             0              1   \n",
       "1       1              0        0           0             1              0   \n",
       "2       1              0        0           0             1              0   \n",
       "3       1              0        0           0             0              1   \n",
       "4       0              0        0           0             1              0   \n",
       "\n",
       "   InternetService  OnlineSecurity  OnlineBackup  DeviceProtection  \\\n",
       "0                0               0             2                 0   \n",
       "1                0               2             0                 2   \n",
       "2                0               2             2                 0   \n",
       "3                0               2             0                 2   \n",
       "4                1               0             0                 0   \n",
       "\n",
       "   TechSupport  StreamingTV  StreamingMovies  Contract  PaperlessBilling  \\\n",
       "0            0            0                0         0                 1   \n",
       "1            0            0                0         1                 0   \n",
       "2            0            0                0         0                 1   \n",
       "3            2            0                0         1                 0   \n",
       "4            0            0                0         0                 1   \n",
       "\n",
       "   PaymentMethod  Churn  \n",
       "0              2      0  \n",
       "1              3      0  \n",
       "2              3      1  \n",
       "3              0      0  \n",
       "4              2      1  "
      ]
     },
     "execution_count": 24,
     "metadata": {},
     "output_type": "execute_result"
    }
   ],
   "source": [
    "cat_col.head()\n",
    "\n",
    "# Label encoding implemented successfully"
   ]
  },
  {
   "cell_type": "code",
   "execution_count": 25,
   "id": "970fb99e",
   "metadata": {},
   "outputs": [],
   "source": [
    "# We will make new data and combine cat_col and num_col\n",
    "\n",
    "churn_new = pd.concat([cat_col,num_col],axis=1)"
   ]
  },
  {
   "cell_type": "code",
   "execution_count": 26,
   "id": "cfb45a79",
   "metadata": {},
   "outputs": [
    {
     "data": {
      "text/html": [
       "<div>\n",
       "<style scoped>\n",
       "    .dataframe tbody tr th:only-of-type {\n",
       "        vertical-align: middle;\n",
       "    }\n",
       "\n",
       "    .dataframe tbody tr th {\n",
       "        vertical-align: top;\n",
       "    }\n",
       "\n",
       "    .dataframe thead th {\n",
       "        text-align: right;\n",
       "    }\n",
       "</style>\n",
       "<table border=\"1\" class=\"dataframe\">\n",
       "  <thead>\n",
       "    <tr style=\"text-align: right;\">\n",
       "      <th></th>\n",
       "      <th>gender</th>\n",
       "      <th>SeniorCitizen</th>\n",
       "      <th>Partner</th>\n",
       "      <th>Dependents</th>\n",
       "      <th>PhoneService</th>\n",
       "      <th>MultipleLines</th>\n",
       "      <th>InternetService</th>\n",
       "      <th>OnlineSecurity</th>\n",
       "      <th>OnlineBackup</th>\n",
       "      <th>DeviceProtection</th>\n",
       "      <th>TechSupport</th>\n",
       "      <th>StreamingTV</th>\n",
       "      <th>StreamingMovies</th>\n",
       "      <th>Contract</th>\n",
       "      <th>PaperlessBilling</th>\n",
       "      <th>PaymentMethod</th>\n",
       "      <th>Churn</th>\n",
       "      <th>tenure</th>\n",
       "      <th>MonthlyCharges</th>\n",
       "      <th>TotalCharges</th>\n",
       "    </tr>\n",
       "  </thead>\n",
       "  <tbody>\n",
       "    <tr>\n",
       "      <th>0</th>\n",
       "      <td>0</td>\n",
       "      <td>0</td>\n",
       "      <td>1</td>\n",
       "      <td>0</td>\n",
       "      <td>0</td>\n",
       "      <td>1</td>\n",
       "      <td>0</td>\n",
       "      <td>0</td>\n",
       "      <td>2</td>\n",
       "      <td>0</td>\n",
       "      <td>0</td>\n",
       "      <td>0</td>\n",
       "      <td>0</td>\n",
       "      <td>0</td>\n",
       "      <td>1</td>\n",
       "      <td>2</td>\n",
       "      <td>0</td>\n",
       "      <td>1</td>\n",
       "      <td>29.85</td>\n",
       "      <td>29.85</td>\n",
       "    </tr>\n",
       "    <tr>\n",
       "      <th>1</th>\n",
       "      <td>1</td>\n",
       "      <td>0</td>\n",
       "      <td>0</td>\n",
       "      <td>0</td>\n",
       "      <td>1</td>\n",
       "      <td>0</td>\n",
       "      <td>0</td>\n",
       "      <td>2</td>\n",
       "      <td>0</td>\n",
       "      <td>2</td>\n",
       "      <td>0</td>\n",
       "      <td>0</td>\n",
       "      <td>0</td>\n",
       "      <td>1</td>\n",
       "      <td>0</td>\n",
       "      <td>3</td>\n",
       "      <td>0</td>\n",
       "      <td>34</td>\n",
       "      <td>56.95</td>\n",
       "      <td>1889.5</td>\n",
       "    </tr>\n",
       "    <tr>\n",
       "      <th>2</th>\n",
       "      <td>1</td>\n",
       "      <td>0</td>\n",
       "      <td>0</td>\n",
       "      <td>0</td>\n",
       "      <td>1</td>\n",
       "      <td>0</td>\n",
       "      <td>0</td>\n",
       "      <td>2</td>\n",
       "      <td>2</td>\n",
       "      <td>0</td>\n",
       "      <td>0</td>\n",
       "      <td>0</td>\n",
       "      <td>0</td>\n",
       "      <td>0</td>\n",
       "      <td>1</td>\n",
       "      <td>3</td>\n",
       "      <td>1</td>\n",
       "      <td>2</td>\n",
       "      <td>53.85</td>\n",
       "      <td>108.15</td>\n",
       "    </tr>\n",
       "    <tr>\n",
       "      <th>3</th>\n",
       "      <td>1</td>\n",
       "      <td>0</td>\n",
       "      <td>0</td>\n",
       "      <td>0</td>\n",
       "      <td>0</td>\n",
       "      <td>1</td>\n",
       "      <td>0</td>\n",
       "      <td>2</td>\n",
       "      <td>0</td>\n",
       "      <td>2</td>\n",
       "      <td>2</td>\n",
       "      <td>0</td>\n",
       "      <td>0</td>\n",
       "      <td>1</td>\n",
       "      <td>0</td>\n",
       "      <td>0</td>\n",
       "      <td>0</td>\n",
       "      <td>45</td>\n",
       "      <td>42.3</td>\n",
       "      <td>1840.75</td>\n",
       "    </tr>\n",
       "    <tr>\n",
       "      <th>4</th>\n",
       "      <td>0</td>\n",
       "      <td>0</td>\n",
       "      <td>0</td>\n",
       "      <td>0</td>\n",
       "      <td>1</td>\n",
       "      <td>0</td>\n",
       "      <td>1</td>\n",
       "      <td>0</td>\n",
       "      <td>0</td>\n",
       "      <td>0</td>\n",
       "      <td>0</td>\n",
       "      <td>0</td>\n",
       "      <td>0</td>\n",
       "      <td>0</td>\n",
       "      <td>1</td>\n",
       "      <td>2</td>\n",
       "      <td>1</td>\n",
       "      <td>2</td>\n",
       "      <td>70.7</td>\n",
       "      <td>151.65</td>\n",
       "    </tr>\n",
       "  </tbody>\n",
       "</table>\n",
       "</div>"
      ],
      "text/plain": [
       "   gender  SeniorCitizen  Partner  Dependents  PhoneService  MultipleLines  \\\n",
       "0       0              0        1           0             0              1   \n",
       "1       1              0        0           0             1              0   \n",
       "2       1              0        0           0             1              0   \n",
       "3       1              0        0           0             0              1   \n",
       "4       0              0        0           0             1              0   \n",
       "\n",
       "   InternetService  OnlineSecurity  OnlineBackup  DeviceProtection  \\\n",
       "0                0               0             2                 0   \n",
       "1                0               2             0                 2   \n",
       "2                0               2             2                 0   \n",
       "3                0               2             0                 2   \n",
       "4                1               0             0                 0   \n",
       "\n",
       "   TechSupport  StreamingTV  StreamingMovies  Contract  PaperlessBilling  \\\n",
       "0            0            0                0         0                 1   \n",
       "1            0            0                0         1                 0   \n",
       "2            0            0                0         0                 1   \n",
       "3            2            0                0         1                 0   \n",
       "4            0            0                0         0                 1   \n",
       "\n",
       "   PaymentMethod  Churn tenure MonthlyCharges TotalCharges  \n",
       "0              2      0      1          29.85        29.85  \n",
       "1              3      0     34          56.95       1889.5  \n",
       "2              3      1      2          53.85       108.15  \n",
       "3              0      0     45           42.3      1840.75  \n",
       "4              2      1      2           70.7       151.65  "
      ]
     },
     "execution_count": 26,
     "metadata": {},
     "output_type": "execute_result"
    }
   ],
   "source": [
    "churn_new.head()"
   ]
  },
  {
   "cell_type": "code",
   "execution_count": 27,
   "id": "21c78fef",
   "metadata": {},
   "outputs": [
    {
     "data": {
      "image/png": "[encoded data removed]",
      "text/plain": [
       "<Figure size 432x288 with 1 Axes>"
      ]
     },
     "metadata": {
      "needs_background": "light"
     },
     "output_type": "display_data"
    },
    {
     "data": {
      "image/png": "[encoded data removed]",
      "text/plain": [
       "<Figure size 432x288 with 1 Axes>"
      ]
     },
     "metadata": {
      "needs_background": "light"
     },
     "output_type": "display_data"
    },
    {
     "data": {
      "image/png": "[encoded data removed]",
      "text/plain": [
       "<Figure size 432x288 with 1 Axes>"
      ]
     },
     "metadata": {
      "needs_background": "light"
     },
     "output_type": "display_data"
    }
   ],
   "source": [
    "# Checking outliers\n",
    "\n",
    "for i in num_col:\n",
    "    sns.boxplot(data=num_col,x=i)\n",
    "    plt.show()"
   ]
  },
  {
   "cell_type": "markdown",
   "id": "ee1e87bc",
   "metadata": {},
   "source": [
    "# Modeling"
   ]
  },
  {
   "cell_type": "code",
   "execution_count": 28,
   "id": "2cfd907d",
   "metadata": {},
   "outputs": [],
   "source": [
    "# splitting Dataset into x and y\n",
    "y= churn_new[\"Churn\"]\n",
    "x= churn_new.drop(\"Churn\",axis=1)"
   ]
  },
  {
   "cell_type": "code",
   "execution_count": 29,
   "id": "32c07f1a",
   "metadata": {},
   "outputs": [],
   "source": [
    "x_train , x_test , y_train , y_test = train_test_split(x,y,test_size=0.33,random_state=0)"
   ]
  },
  {
   "cell_type": "code",
   "execution_count": 30,
   "id": "4a6dca51",
   "metadata": {},
   "outputs": [
    {
     "name": "stdout",
     "output_type": "stream",
     "text": [
      "(4718, 19)\n",
      "(2325, 19)\n"
     ]
    }
   ],
   "source": [
    "print(x_train.shape)\n",
    "print(x_test.shape)"
   ]
  },
  {
   "cell_type": "code",
   "execution_count": 31,
   "id": "3293e29f",
   "metadata": {},
   "outputs": [
    {
     "name": "stderr",
     "output_type": "stream",
     "text": [
      "C:\\Users\\HP User\\anaconda3\\lib\\site-packages\\sklearn\\linear_model\\_logistic.py:763: ConvergenceWarning: lbfgs failed to converge (status=1):\n",
      "STOP: TOTAL NO. of ITERATIONS REACHED LIMIT.\n",
      "\n",
      "Increase the number of iterations (max_iter) or scale the data as shown in:\n",
      "    https://scikit-learn.org/stable/modules/preprocessing.html\n",
      "Please also refer to the documentation for alternative solver options:\n",
      "    https://scikit-learn.org/stable/modules/linear_model.html#logistic-regression\n",
      "  n_iter_i = _check_optimize_result(\n"
     ]
    },
    {
     "data": {
      "text/plain": [
       "array([0, 0, 0, ..., 0, 0, 0])"
      ]
     },
     "execution_count": 31,
     "metadata": {},
     "output_type": "execute_result"
    }
   ],
   "source": [
    "# Fitting logistic model\n",
    "lr.fit(x_train,y_train)\n",
    "lr.predict(x_test)"
   ]
  },
  {
   "cell_type": "code",
   "execution_count": 32,
   "id": "bed3e4cd",
   "metadata": {},
   "outputs": [
    {
     "name": "stdout",
     "output_type": "stream",
     "text": [
      "accuracy of lr model is 0.7944086021505377\n",
      "precision score  0.631578947368421\n",
      "recall score   0.5285481239804242\n"
     ]
    }
   ],
   "source": [
    "# Checking accuracy of logistic model\n",
    "\n",
    "print(\"accuracy of lr model is\",accuracy_score(y_test,lr.predict(x_test)))\n",
    "print(\"precision score \", precision_score(y_test,lr.predict(x_test)))\n",
    "print(\"recall score  \",recall_score(y_test,lr.predict(x_test)))\n"
   ]
  },
  {
   "cell_type": "code",
   "execution_count": 33,
   "id": "60f670b8",
   "metadata": {},
   "outputs": [
    {
     "data": {
      "text/plain": [
       "array([0, 0, 1, ..., 0, 0, 0])"
      ]
     },
     "execution_count": 33,
     "metadata": {},
     "output_type": "execute_result"
    }
   ],
   "source": [
    "# Fitting decision tree model\n",
    "dtc.fit(x_train,y_train)\n",
    "dtc.predict(x_test)"
   ]
  },
  {
   "cell_type": "code",
   "execution_count": 34,
   "id": "07d42cec",
   "metadata": {},
   "outputs": [
    {
     "name": "stdout",
     "output_type": "stream",
     "text": [
      "accuracy of Decision Tree model is 0.7333333333333333\n",
      "precision score  0.49421487603305786\n",
      "recall score   0.48776508972267535\n"
     ]
    }
   ],
   "source": [
    "# Checking accuracy of decision tree model\n",
    "\n",
    "print(\"accuracy of Decision Tree model is\",accuracy_score(y_test,dtc.predict(x_test)))\n",
    "print(\"precision score \", precision_score(y_test,dtc.predict(x_test)))\n",
    "print(\"recall score  \",recall_score(y_test,dtc.predict(x_test)))"
   ]
  },
  {
   "cell_type": "code",
   "execution_count": 35,
   "id": "73ea9b21",
   "metadata": {},
   "outputs": [
    {
     "data": {
      "text/plain": [
       "array([0, 0, 0, ..., 0, 0, 0])"
      ]
     },
     "execution_count": 35,
     "metadata": {},
     "output_type": "execute_result"
    }
   ],
   "source": [
    "# Fitting random forest model\n",
    "rfc.fit(x_train,y_train)\n",
    "rfc.predict(x_test)"
   ]
  },
  {
   "cell_type": "code",
   "execution_count": 36,
   "id": "41062fe4",
   "metadata": {},
   "outputs": [
    {
     "name": "stdout",
     "output_type": "stream",
     "text": [
      "accuracy of Random Forest model is 0.7974193548387096\n",
      "precision score  0.6437246963562753\n",
      "recall score   0.5187601957585645\n"
     ]
    }
   ],
   "source": [
    "# Checking accuracy of random forest model\n",
    "\n",
    "print(\"accuracy of Random Forest model is\",accuracy_score(y_test,rfc.predict(x_test)))\n",
    "print(\"precision score \", precision_score(y_test,rfc.predict(x_test)))\n",
    "print(\"recall score  \",recall_score(y_test,rfc.predict(x_test)))"
   ]
  },
  {
   "cell_type": "code",
   "execution_count": 37,
   "id": "bd42692c",
   "metadata": {},
   "outputs": [
    {
     "data": {
      "text/plain": [
       "StandardScaler()"
      ]
     },
     "execution_count": 37,
     "metadata": {},
     "output_type": "execute_result"
    }
   ],
   "source": [
    "# Now we will do scaling and check whether there is any change  in result or not\n",
    "\n",
    "ss.fit(x_train)"
   ]
  },
  {
   "cell_type": "code",
   "execution_count": 38,
   "id": "1b41fc32",
   "metadata": {},
   "outputs": [],
   "source": [
    "ss_x_train = ss.fit_transform(x_train)\n",
    "ss_x_test = ss.fit_transform(x_test)"
   ]
  },
  {
   "cell_type": "code",
   "execution_count": 39,
   "id": "6fd7e809",
   "metadata": {},
   "outputs": [],
   "source": [
    "# As scaler x_train and scaler X_test is an array and we have to change it into data frame\n",
    "\n",
    "ss_x_train = pd.DataFrame(ss_x_train,columns=x_train.columns)\n",
    "ss_x_test = pd.DataFrame(ss_x_test,columns=x_test.columns)"
   ]
  },
  {
   "cell_type": "code",
   "execution_count": 40,
   "id": "63df73ac",
   "metadata": {},
   "outputs": [
    {
     "data": {
      "text/html": [
       "<div>\n",
       "<style scoped>\n",
       "    .dataframe tbody tr th:only-of-type {\n",
       "        vertical-align: middle;\n",
       "    }\n",
       "\n",
       "    .dataframe tbody tr th {\n",
       "        vertical-align: top;\n",
       "    }\n",
       "\n",
       "    .dataframe thead th {\n",
       "        text-align: right;\n",
       "    }\n",
       "</style>\n",
       "<table border=\"1\" class=\"dataframe\">\n",
       "  <thead>\n",
       "    <tr style=\"text-align: right;\">\n",
       "      <th></th>\n",
       "      <th>gender</th>\n",
       "      <th>SeniorCitizen</th>\n",
       "      <th>Partner</th>\n",
       "      <th>Dependents</th>\n",
       "      <th>PhoneService</th>\n",
       "      <th>MultipleLines</th>\n",
       "      <th>InternetService</th>\n",
       "      <th>OnlineSecurity</th>\n",
       "      <th>OnlineBackup</th>\n",
       "      <th>DeviceProtection</th>\n",
       "      <th>TechSupport</th>\n",
       "      <th>StreamingTV</th>\n",
       "      <th>StreamingMovies</th>\n",
       "      <th>Contract</th>\n",
       "      <th>PaperlessBilling</th>\n",
       "      <th>PaymentMethod</th>\n",
       "      <th>tenure</th>\n",
       "      <th>MonthlyCharges</th>\n",
       "      <th>TotalCharges</th>\n",
       "    </tr>\n",
       "  </thead>\n",
       "  <tbody>\n",
       "    <tr>\n",
       "      <th>0</th>\n",
       "      <td>-1.002547</td>\n",
       "      <td>2.309304</td>\n",
       "      <td>-0.974881</td>\n",
       "      <td>-0.656504</td>\n",
       "      <td>0.325107</td>\n",
       "      <td>1.116339</td>\n",
       "      <td>0.179237</td>\n",
       "      <td>-0.921587</td>\n",
       "      <td>1.243348</td>\n",
       "      <td>1.253232</td>\n",
       "      <td>-0.914703</td>\n",
       "      <td>1.147826</td>\n",
       "      <td>1.138583</td>\n",
       "      <td>0.380544</td>\n",
       "      <td>0.816785</td>\n",
       "      <td>-1.475807</td>\n",
       "      <td>0.963270</td>\n",
       "      <td>1.332317</td>\n",
       "      <td>1.433243</td>\n",
       "    </tr>\n",
       "    <tr>\n",
       "      <th>1</th>\n",
       "      <td>0.997460</td>\n",
       "      <td>-0.433031</td>\n",
       "      <td>-0.974881</td>\n",
       "      <td>-0.656504</td>\n",
       "      <td>0.325107</td>\n",
       "      <td>1.116339</td>\n",
       "      <td>0.179237</td>\n",
       "      <td>1.397371</td>\n",
       "      <td>1.243348</td>\n",
       "      <td>-1.018281</td>\n",
       "      <td>-0.914703</td>\n",
       "      <td>-1.108608</td>\n",
       "      <td>1.138583</td>\n",
       "      <td>-0.826045</td>\n",
       "      <td>0.816785</td>\n",
       "      <td>0.396432</td>\n",
       "      <td>0.554981</td>\n",
       "      <td>0.963254</td>\n",
       "      <td>0.831319</td>\n",
       "    </tr>\n",
       "    <tr>\n",
       "      <th>2</th>\n",
       "      <td>0.997460</td>\n",
       "      <td>-0.433031</td>\n",
       "      <td>-0.974881</td>\n",
       "      <td>-0.656504</td>\n",
       "      <td>0.325107</td>\n",
       "      <td>1.116339</td>\n",
       "      <td>-1.178129</td>\n",
       "      <td>-0.921587</td>\n",
       "      <td>-1.025942</td>\n",
       "      <td>1.253232</td>\n",
       "      <td>1.409243</td>\n",
       "      <td>-1.108608</td>\n",
       "      <td>-1.117542</td>\n",
       "      <td>-0.826045</td>\n",
       "      <td>-1.224312</td>\n",
       "      <td>1.332552</td>\n",
       "      <td>-1.282321</td>\n",
       "      <td>-0.093836</td>\n",
       "      <td>-0.985643</td>\n",
       "    </tr>\n",
       "    <tr>\n",
       "      <th>3</th>\n",
       "      <td>-1.002547</td>\n",
       "      <td>-0.433031</td>\n",
       "      <td>1.025766</td>\n",
       "      <td>-0.656504</td>\n",
       "      <td>0.325107</td>\n",
       "      <td>-0.990838</td>\n",
       "      <td>0.179237</td>\n",
       "      <td>-0.921587</td>\n",
       "      <td>1.243348</td>\n",
       "      <td>1.253232</td>\n",
       "      <td>-0.914703</td>\n",
       "      <td>1.147826</td>\n",
       "      <td>1.138583</td>\n",
       "      <td>0.380544</td>\n",
       "      <td>0.816785</td>\n",
       "      <td>0.396432</td>\n",
       "      <td>0.636639</td>\n",
       "      <td>1.075142</td>\n",
       "      <td>1.070228</td>\n",
       "    </tr>\n",
       "    <tr>\n",
       "      <th>4</th>\n",
       "      <td>-1.002547</td>\n",
       "      <td>-0.433031</td>\n",
       "      <td>-0.974881</td>\n",
       "      <td>-0.656504</td>\n",
       "      <td>0.325107</td>\n",
       "      <td>-0.990838</td>\n",
       "      <td>-1.178129</td>\n",
       "      <td>-0.921587</td>\n",
       "      <td>-1.025942</td>\n",
       "      <td>-1.018281</td>\n",
       "      <td>-0.914703</td>\n",
       "      <td>-1.108608</td>\n",
       "      <td>-1.117542</td>\n",
       "      <td>-0.826045</td>\n",
       "      <td>0.816785</td>\n",
       "      <td>0.396432</td>\n",
       "      <td>-1.282321</td>\n",
       "      <td>-0.641586</td>\n",
       "      <td>-0.992923</td>\n",
       "    </tr>\n",
       "  </tbody>\n",
       "</table>\n",
       "</div>"
      ],
      "text/plain": [
       "     gender  SeniorCitizen   Partner  Dependents  PhoneService  MultipleLines  \\\n",
       "0 -1.002547       2.309304 -0.974881   -0.656504      0.325107       1.116339   \n",
       "1  0.997460      -0.433031 -0.974881   -0.656504      0.325107       1.116339   \n",
       "2  0.997460      -0.433031 -0.974881   -0.656504      0.325107       1.116339   \n",
       "3 -1.002547      -0.433031  1.025766   -0.656504      0.325107      -0.990838   \n",
       "4 -1.002547      -0.433031 -0.974881   -0.656504      0.325107      -0.990838   \n",
       "\n",
       "   InternetService  OnlineSecurity  OnlineBackup  DeviceProtection  \\\n",
       "0         0.179237       -0.921587      1.243348          1.253232   \n",
       "1         0.179237        1.397371      1.243348         -1.018281   \n",
       "2        -1.178129       -0.921587     -1.025942          1.253232   \n",
       "3         0.179237       -0.921587      1.243348          1.253232   \n",
       "4        -1.178129       -0.921587     -1.025942         -1.018281   \n",
       "\n",
       "   TechSupport  StreamingTV  StreamingMovies  Contract  PaperlessBilling  \\\n",
       "0    -0.914703     1.147826         1.138583  0.380544          0.816785   \n",
       "1    -0.914703    -1.108608         1.138583 -0.826045          0.816785   \n",
       "2     1.409243    -1.108608        -1.117542 -0.826045         -1.224312   \n",
       "3    -0.914703     1.147826         1.138583  0.380544          0.816785   \n",
       "4    -0.914703    -1.108608        -1.117542 -0.826045          0.816785   \n",
       "\n",
       "   PaymentMethod    tenure  MonthlyCharges  TotalCharges  \n",
       "0      -1.475807  0.963270        1.332317      1.433243  \n",
       "1       0.396432  0.554981        0.963254      0.831319  \n",
       "2       1.332552 -1.282321       -0.093836     -0.985643  \n",
       "3       0.396432  0.636639        1.075142      1.070228  \n",
       "4       0.396432 -1.282321       -0.641586     -0.992923  "
      ]
     },
     "execution_count": 40,
     "metadata": {},
     "output_type": "execute_result"
    }
   ],
   "source": [
    "ss_x_train.head()"
   ]
  },
  {
   "cell_type": "code",
   "execution_count": 41,
   "id": "22856395",
   "metadata": {},
   "outputs": [
    {
     "data": {
      "text/html": [
       "<div>\n",
       "<style scoped>\n",
       "    .dataframe tbody tr th:only-of-type {\n",
       "        vertical-align: middle;\n",
       "    }\n",
       "\n",
       "    .dataframe tbody tr th {\n",
       "        vertical-align: top;\n",
       "    }\n",
       "\n",
       "    .dataframe thead th {\n",
       "        text-align: right;\n",
       "    }\n",
       "</style>\n",
       "<table border=\"1\" class=\"dataframe\">\n",
       "  <thead>\n",
       "    <tr style=\"text-align: right;\">\n",
       "      <th></th>\n",
       "      <th>gender</th>\n",
       "      <th>SeniorCitizen</th>\n",
       "      <th>Partner</th>\n",
       "      <th>Dependents</th>\n",
       "      <th>PhoneService</th>\n",
       "      <th>MultipleLines</th>\n",
       "      <th>InternetService</th>\n",
       "      <th>OnlineSecurity</th>\n",
       "      <th>OnlineBackup</th>\n",
       "      <th>DeviceProtection</th>\n",
       "      <th>TechSupport</th>\n",
       "      <th>StreamingTV</th>\n",
       "      <th>StreamingMovies</th>\n",
       "      <th>Contract</th>\n",
       "      <th>PaperlessBilling</th>\n",
       "      <th>PaymentMethod</th>\n",
       "      <th>tenure</th>\n",
       "      <th>MonthlyCharges</th>\n",
       "      <th>TotalCharges</th>\n",
       "    </tr>\n",
       "  </thead>\n",
       "  <tbody>\n",
       "    <tr>\n",
       "      <th>0</th>\n",
       "      <td>-1.023942</td>\n",
       "      <td>-0.453776</td>\n",
       "      <td>-0.950062</td>\n",
       "      <td>-0.64896</td>\n",
       "      <td>0.332137</td>\n",
       "      <td>-0.993116</td>\n",
       "      <td>-1.193722</td>\n",
       "      <td>-0.913323</td>\n",
       "      <td>1.240956</td>\n",
       "      <td>-1.047749</td>\n",
       "      <td>-0.947010</td>\n",
       "      <td>1.143984</td>\n",
       "      <td>-1.129307</td>\n",
       "      <td>0.352876</td>\n",
       "      <td>-1.167392</td>\n",
       "      <td>0.402879</td>\n",
       "      <td>-0.538611</td>\n",
       "      <td>-0.209429</td>\n",
       "      <td>-0.541667</td>\n",
       "    </tr>\n",
       "    <tr>\n",
       "      <th>1</th>\n",
       "      <td>0.976617</td>\n",
       "      <td>-0.453776</td>\n",
       "      <td>-0.950062</td>\n",
       "      <td>-0.64896</td>\n",
       "      <td>0.332137</td>\n",
       "      <td>1.118448</td>\n",
       "      <td>0.158155</td>\n",
       "      <td>1.427886</td>\n",
       "      <td>1.240956</td>\n",
       "      <td>1.228902</td>\n",
       "      <td>1.370672</td>\n",
       "      <td>1.143984</td>\n",
       "      <td>1.138084</td>\n",
       "      <td>0.352876</td>\n",
       "      <td>0.856610</td>\n",
       "      <td>-0.533814</td>\n",
       "      <td>1.122011</td>\n",
       "      <td>1.712667</td>\n",
       "      <td>2.080707</td>\n",
       "    </tr>\n",
       "    <tr>\n",
       "      <th>2</th>\n",
       "      <td>-1.023942</td>\n",
       "      <td>-0.453776</td>\n",
       "      <td>-0.950062</td>\n",
       "      <td>-0.64896</td>\n",
       "      <td>0.332137</td>\n",
       "      <td>-0.993116</td>\n",
       "      <td>-1.193722</td>\n",
       "      <td>1.427886</td>\n",
       "      <td>-1.038051</td>\n",
       "      <td>-1.047749</td>\n",
       "      <td>-0.947010</td>\n",
       "      <td>1.143984</td>\n",
       "      <td>1.138084</td>\n",
       "      <td>-0.832726</td>\n",
       "      <td>0.856610</td>\n",
       "      <td>0.402879</td>\n",
       "      <td>-0.781629</td>\n",
       "      <td>0.243119</td>\n",
       "      <td>-0.594689</td>\n",
       "    </tr>\n",
       "    <tr>\n",
       "      <th>3</th>\n",
       "      <td>0.976617</td>\n",
       "      <td>-0.453776</td>\n",
       "      <td>-0.950062</td>\n",
       "      <td>-0.64896</td>\n",
       "      <td>0.332137</td>\n",
       "      <td>-0.993116</td>\n",
       "      <td>1.510033</td>\n",
       "      <td>0.257281</td>\n",
       "      <td>0.101453</td>\n",
       "      <td>0.090576</td>\n",
       "      <td>0.211831</td>\n",
       "      <td>0.010240</td>\n",
       "      <td>0.004388</td>\n",
       "      <td>1.538478</td>\n",
       "      <td>-1.167392</td>\n",
       "      <td>1.339572</td>\n",
       "      <td>-1.267665</td>\n",
       "      <td>-1.451880</td>\n",
       "      <td>-0.989251</td>\n",
       "    </tr>\n",
       "    <tr>\n",
       "      <th>4</th>\n",
       "      <td>-1.023942</td>\n",
       "      <td>-0.453776</td>\n",
       "      <td>1.052562</td>\n",
       "      <td>-0.64896</td>\n",
       "      <td>0.332137</td>\n",
       "      <td>1.118448</td>\n",
       "      <td>0.158155</td>\n",
       "      <td>-0.913323</td>\n",
       "      <td>1.240956</td>\n",
       "      <td>-1.047749</td>\n",
       "      <td>-0.947010</td>\n",
       "      <td>-1.123504</td>\n",
       "      <td>-1.129307</td>\n",
       "      <td>-0.832726</td>\n",
       "      <td>0.856610</td>\n",
       "      <td>-0.533814</td>\n",
       "      <td>0.919496</td>\n",
       "      <td>0.434012</td>\n",
       "      <td>0.865180</td>\n",
       "    </tr>\n",
       "  </tbody>\n",
       "</table>\n",
       "</div>"
      ],
      "text/plain": [
       "     gender  SeniorCitizen   Partner  Dependents  PhoneService  MultipleLines  \\\n",
       "0 -1.023942      -0.453776 -0.950062    -0.64896      0.332137      -0.993116   \n",
       "1  0.976617      -0.453776 -0.950062    -0.64896      0.332137       1.118448   \n",
       "2 -1.023942      -0.453776 -0.950062    -0.64896      0.332137      -0.993116   \n",
       "3  0.976617      -0.453776 -0.950062    -0.64896      0.332137      -0.993116   \n",
       "4 -1.023942      -0.453776  1.052562    -0.64896      0.332137       1.118448   \n",
       "\n",
       "   InternetService  OnlineSecurity  OnlineBackup  DeviceProtection  \\\n",
       "0        -1.193722       -0.913323      1.240956         -1.047749   \n",
       "1         0.158155        1.427886      1.240956          1.228902   \n",
       "2        -1.193722        1.427886     -1.038051         -1.047749   \n",
       "3         1.510033        0.257281      0.101453          0.090576   \n",
       "4         0.158155       -0.913323      1.240956         -1.047749   \n",
       "\n",
       "   TechSupport  StreamingTV  StreamingMovies  Contract  PaperlessBilling  \\\n",
       "0    -0.947010     1.143984        -1.129307  0.352876         -1.167392   \n",
       "1     1.370672     1.143984         1.138084  0.352876          0.856610   \n",
       "2    -0.947010     1.143984         1.138084 -0.832726          0.856610   \n",
       "3     0.211831     0.010240         0.004388  1.538478         -1.167392   \n",
       "4    -0.947010    -1.123504        -1.129307 -0.832726          0.856610   \n",
       "\n",
       "   PaymentMethod    tenure  MonthlyCharges  TotalCharges  \n",
       "0       0.402879 -0.538611       -0.209429     -0.541667  \n",
       "1      -0.533814  1.122011        1.712667      2.080707  \n",
       "2       0.402879 -0.781629        0.243119     -0.594689  \n",
       "3       1.339572 -1.267665       -1.451880     -0.989251  \n",
       "4      -0.533814  0.919496        0.434012      0.865180  "
      ]
     },
     "execution_count": 41,
     "metadata": {},
     "output_type": "execute_result"
    }
   ],
   "source": [
    "ss_x_test.head()"
   ]
  },
  {
   "cell_type": "markdown",
   "id": "ddc2ba7c",
   "metadata": {},
   "source": [
    "# Modeling on scaler values"
   ]
  },
  {
   "cell_type": "code",
   "execution_count": 42,
   "id": "59f9f5d5",
   "metadata": {},
   "outputs": [
    {
     "data": {
      "text/plain": [
       "array([0, 0, 0, ..., 0, 0, 0])"
      ]
     },
     "execution_count": 42,
     "metadata": {},
     "output_type": "execute_result"
    }
   ],
   "source": [
    "# Fitting logistic model\n",
    "\n",
    "lr.fit(ss_x_train,y_train)\n",
    "lr.predict(ss_x_test)"
   ]
  },
  {
   "cell_type": "code",
   "execution_count": 43,
   "id": "69023085",
   "metadata": {},
   "outputs": [
    {
     "name": "stdout",
     "output_type": "stream",
     "text": [
      "accuracy of lr model is 0.796989247311828\n",
      "precision score  0.6358381502890174\n",
      "recall score   0.5383360522022839\n"
     ]
    }
   ],
   "source": [
    "# Checking accuracy of logistic model\n",
    "\n",
    "print(\"accuracy of lr model is\",accuracy_score(y_test,lr.predict(ss_x_test)))\n",
    "print(\"precision score \", precision_score(y_test,lr.predict(ss_x_test)))\n",
    "print(\"recall score  \",recall_score(y_test,lr.predict(ss_x_test)))\n",
    "\n",
    "# No major changes are observed"
   ]
  },
  {
   "cell_type": "code",
   "execution_count": 44,
   "id": "24a39647",
   "metadata": {},
   "outputs": [
    {
     "data": {
      "text/plain": [
       "array([0, 1, 1, ..., 0, 0, 0])"
      ]
     },
     "execution_count": 44,
     "metadata": {},
     "output_type": "execute_result"
    }
   ],
   "source": [
    "# Fitting decision tree model\n",
    "\n",
    "dtc.fit(ss_x_train,y_train)\n",
    "dtc.predict(ss_x_test)"
   ]
  },
  {
   "cell_type": "code",
   "execution_count": 45,
   "id": "19c92b66",
   "metadata": {},
   "outputs": [
    {
     "name": "stdout",
     "output_type": "stream",
     "text": [
      "accuracy of Decision Tree model is 0.7367741935483871\n",
      "precision score  0.5007898894154819\n",
      "recall score   0.5171288743882545\n"
     ]
    }
   ],
   "source": [
    "# Checking accurcy of decision tree model\n",
    "\n",
    "print(\"accuracy of Decision Tree model is\",accuracy_score(y_test,dtc.predict(ss_x_test)))\n",
    "print(\"precision score \", precision_score(y_test,dtc.predict(ss_x_test)))\n",
    "print(\"recall score  \",recall_score(y_test,dtc.predict(ss_x_test)))\n",
    "\n",
    "# NO major changes observed"
   ]
  },
  {
   "cell_type": "code",
   "execution_count": 46,
   "id": "8f489b0c",
   "metadata": {},
   "outputs": [
    {
     "data": {
      "text/plain": [
       "array([0, 0, 0, ..., 0, 0, 0])"
      ]
     },
     "execution_count": 46,
     "metadata": {},
     "output_type": "execute_result"
    }
   ],
   "source": [
    "# fitting random forest model\n",
    "\n",
    "rfc.fit(ss_x_train,y_train)\n",
    "rfc.predict(ss_x_test)"
   ]
  },
  {
   "cell_type": "code",
   "execution_count": 47,
   "id": "3b6e51ba",
   "metadata": {},
   "outputs": [
    {
     "name": "stdout",
     "output_type": "stream",
     "text": [
      "accuracy of Random Forest model is 0.7991397849462366\n",
      "precision score  0.6483739837398373\n",
      "recall score   0.5203915171288744\n"
     ]
    }
   ],
   "source": [
    "# Checking the accuracy of random forest model\n",
    "\n",
    "print(\"accuracy of Random Forest model is\",accuracy_score(y_test,rfc.predict(ss_x_test)))\n",
    "print(\"precision score \", precision_score(y_test,rfc.predict(ss_x_test)))\n",
    "print(\"recall score  \",recall_score(y_test,rfc.predict(ss_x_test)))\n",
    "\n",
    "# No major changes observed"
   ]
  },
  {
   "cell_type": "code",
   "execution_count": null,
   "id": "05a5d6e0",
   "metadata": {},
   "outputs": [],
   "source": []
  },
  {
   "cell_type": "code",
   "execution_count": null,
   "id": "edd1155f",
   "metadata": {},
   "outputs": [],
   "source": []
  }
 ],
 "metadata": {
  "kernelspec": {
   "display_name": "Python 3",
   "language": "python",
   "name": "python3"
  },
  "language_info": {
   "codemirror_mode": {
    "name": "ipython",
    "version": 3
   },
   "file_extension": ".py",
   "mimetype": "text/x-python",
   "name": "python",
   "nbconvert_exporter": "python",
   "pygments_lexer": "ipython3",
   "version": "3.8.8"
  }
 },
 "nbformat": 4,
 "nbformat_minor": 5
}
